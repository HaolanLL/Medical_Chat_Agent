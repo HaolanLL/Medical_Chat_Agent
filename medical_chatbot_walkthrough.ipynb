{
 "cells": [
  {
   "cell_type": "markdown",
   "metadata": {},
   "source": [
    "# Medical Chatbot - Production Implementation\n",
    "\n",
    "## Real System Setup\n",
    "\n",
    "### 1.1 Configure Services\n",
    "\n",
    "Required live services:\n",
    "- OpenAI API (GPT-4)\n",
    "- PostgreSQL database\n",
    "- Twilio (for SMS)\n",
    "- SMTP server (for email)"
   ]
  },
  {
   "cell_type": "code",
   "execution_count": null,
   "metadata": {},
   "outputs": [],
   "source": [
    "# Verify services are accessible\n",
    "import openai\n",
    "import psycopg2\n",
    "from twilio.rest import Client\n",
    "import smtplib\n",
    "import os\n",
    "from dotenv import load_dotenv\n",
    "\n",
    "load_dotenv()\n",
    "\n",
    "# Test OpenAI\n",
    "openai.api_key = os.getenv('OPENAI_API_KEY')\n",
    "print(\"OpenAI accessible:\", bool(openai.Model.list()))\n",
    "\n",
    "# Test Database\n",
    "try:\n",
    "    conn = psycopg2.connect(\n",
    "        dbname=os.getenv('DB_NAME'),\n",
    "        user=os.getenv('DB_USER'),\n",
    "        password=os.getenv('DB_PASSWORD'),\n",
    "        host=os.getenv('DB_HOST')\n",
    "    )\n",
    "    print(\"Database connection successful\")\n",
    "    conn.close()\n",
    "except Exception as e:\n",
    "    print(\"Database connection failed:\", str(e))"
   ]
  },
  {
   "cell_type": "markdown",
   "metadata": {},
   "source": [
    "## 2. Run Real Chatbot"
   ]
  },
  {
   "cell_type": "code",
   "execution_count": null,
   "metadata": {},
   "outputs": [],
   "source": [
    "from appointment_agent import handle_message\n",
    "from datetime import datetime\n",
    "\n",
    "# Initialize with real data\n",
    "state = {\n",
    "    \"messages\": [{\"content\": \"I need to book a checkup appointment\"}],\n",
    "    \"patient_id\": \"PAT-123\",\n",
    "    \"doctor_id\": \"DR-456\",\n",
    "    \"slot\": datetime(2025, 3, 28, 14, 0)\n",
    "}\n",
    "\n",
    "# Get real response\n",
    "result = handle_message(state)\n",
    "print(\"Assistant:\", result[\"response\"])"
   ]
  },
  {
   "cell_type": "markdown",
   "metadata": {},
   "source": [
    "## 3. Deployment Guide"
   ]
  },
  {
   "cell_type": "markdown",
   "metadata": {},
   "source": [
    "### 3.1 Environment Configuration\n",
    "\n",
    "Create a `.env` file with:"
   ]
  },
  {
   "cell_type": "code",
   "execution_count": null,
   "metadata": {},
   "outputs": [],
   "source": [
    "%%writefile .env\n",
    "# Required configuration\n",
    "OPENAI_API_KEY=your_openai_key\n",
    "DB_NAME=medical_db\n",
    "DB_USER=db_user\n",
    "DB_PASSWORD=db_password\n",
    "DB_HOST=localhost\n",
    "TWILIO_SID=your_twilio_sid\n",
    "TWILIO_TOKEN=your_twilio_token\n",
    "SMTP_SERVER=smtp.example.com\n",
    "SMTP_USER=user@example.com\n",
    "SMTP_PASSWORD=email_password"
   ]
  },
  {
   "cell_type": "markdown",
   "metadata": {},
   "source": [
    "### 3.2 Installation"
   ]
  },
  {
   "cell_type": "code",
   "execution_count": null,
   "metadata": {},
   "outputs": [],
   "source": [
    "%pip install -r requirements.txt\n",
    "%pip install psycopg2-binary twilio"
   ]
  },
  {
   "cell_type": "markdown",
   "metadata": {},
   "source": [
    "### 3.3 Start the Application"
   ]
  },
  {
   "cell_type": "code",
   "execution_count": null,
   "metadata": {},
   "outputs": [],
   "source": [
    "# Start web server\n",
    "!uvicorn web.main:app --reload"
   ]
  }
 ],
 "metadata": {
  "kernelspec": {
   "display_name": "Python 3",
   "language": "python",
   "name": "python3"
  },
  "language_info": {
   "codemirror_mode": {
    "name": "ipython",
    "version": 3
   },
   "file_extension": ".py",
   "mimetype": "text/x-python",
   "name": "python",
   "nbconvert_exporter": "python",
   "pygments_lexer": "ipython3",
   "version": "3.9.6"
  }
 },
 "nbformat": 4,
 "nbformat_minor": 4
}